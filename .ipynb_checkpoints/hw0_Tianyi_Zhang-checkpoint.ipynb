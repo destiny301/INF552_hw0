{
 "cells": [
  {
   "cell_type": "markdown",
   "metadata": {},
   "source": [
    "## Tianyi Zhang 9598110243"
   ]
  },
  {
   "cell_type": "markdown",
   "metadata": {},
   "source": [
    "### 1. Setting up an Integrated Development Environment (IDE)"
   ]
  },
  {
   "cell_type": "markdown",
   "metadata": {},
   "source": [
    "### 2. Google Colab"
   ]
  },
  {
   "cell_type": "markdown",
   "metadata": {},
   "source": [
    "### 3. Pandas"
   ]
  },
  {
   "cell_type": "code",
   "execution_count": 72,
   "metadata": {},
   "outputs": [],
   "source": [
    "import pandas as pd"
   ]
  },
  {
   "cell_type": "code",
   "execution_count": 73,
   "metadata": {},
   "outputs": [],
   "source": [
    "# data3b = pd.read_csv('Salaries.csv')  "
   ]
  },
  {
   "cell_type": "code",
   "execution_count": 74,
   "metadata": {},
   "outputs": [
    {
     "name": "stdout",
     "output_type": "stream",
     "text": [
      "Index(['bedrost01', 'benedbr01', 'campri01', 'ceronri01', 'chambch01',\n",
      "       'dedmoje01', 'forstte01', 'garbege01', 'harpete01', 'hornebo01',\n",
      "       ...\n",
      "       'stammcr01', 'storedr01', 'strasst01', 'taylomi02', 'thornma01',\n",
      "       'treinbl01', 'ugglada01', 'werthja01', 'zimmejo02', 'zimmery01'],\n",
      "      dtype='object', name='playerID', length=25574)\n",
      "Index(['yearID', 'teamID', 'lgID', 'salary'], dtype='object')\n",
      "           yearID teamID lgID  salary\n",
      "playerID                             \n",
      "bedrost01    1985    ATL   NL  550000\n",
      "benedbr01    1985    ATL   NL  545000\n",
      "campri01     1985    ATL   NL  633333\n",
      "ceronri01    1985    ATL   NL  625000\n",
      "chambch01    1985    ATL   NL  800000\n"
     ]
    }
   ],
   "source": [
    "data3c = pd.read_csv('Salaries.csv', index_col = 3, header=0, skiprows=range(1, 2))\n",
    "\n",
    "print(data3c.index)\n",
    "print(data3c.columns)\n",
    "# print(data3c.iloc[0])\n",
    "\n",
    "print(data3c.head(5))"
   ]
  },
  {
   "cell_type": "code",
   "execution_count": 75,
   "metadata": {},
   "outputs": [
    {
     "name": "stdout",
     "output_type": "stream",
     "text": [
      "(885, 4)\n",
      "(325, 4)\n",
      "           yearID teamID lgID   salary\n",
      "playerID                              \n",
      "hornebo01    1985    ATL   NL  1500000\n",
      "murphda05    1985    ATL   NL  1625000\n",
      "suttebr01    1985    ATL   NL  1354167\n",
      "hornebo01    1986    ATL   NL  1800000\n",
      "murphda05    1986    ATL   NL  1825000\n"
     ]
    }
   ],
   "source": [
    "data3d = data3c[data3c.teamID == ('ATL' or 'HOU')]\n",
    "\n",
    "print(data3d.shape)\n",
    "data3d = data3d[data3d.salary > 1000000]\n",
    "\n",
    "print(data3d.shape)\n",
    "print(data3d.head(5))"
   ]
  },
  {
   "cell_type": "code",
   "execution_count": 76,
   "metadata": {},
   "outputs": [
    {
     "data": {
      "text/html": [
       "<div>\n",
       "<style scoped>\n",
       "    .dataframe tbody tr th:only-of-type {\n",
       "        vertical-align: middle;\n",
       "    }\n",
       "\n",
       "    .dataframe tbody tr th {\n",
       "        vertical-align: top;\n",
       "    }\n",
       "\n",
       "    .dataframe thead th {\n",
       "        text-align: right;\n",
       "    }\n",
       "</style>\n",
       "<table border=\"1\" class=\"dataframe\">\n",
       "  <thead>\n",
       "    <tr style=\"text-align: right;\">\n",
       "      <th></th>\n",
       "      <th>yearID</th>\n",
       "      <th>salary</th>\n",
       "    </tr>\n",
       "  </thead>\n",
       "  <tbody>\n",
       "    <tr>\n",
       "      <th>count</th>\n",
       "      <td>885.000000</td>\n",
       "      <td>8.850000e+02</td>\n",
       "    </tr>\n",
       "    <tr>\n",
       "      <th>mean</th>\n",
       "      <td>1999.725424</td>\n",
       "      <td>2.207749e+06</td>\n",
       "    </tr>\n",
       "    <tr>\n",
       "      <th>std</th>\n",
       "      <td>8.766470</td>\n",
       "      <td>3.434320e+06</td>\n",
       "    </tr>\n",
       "    <tr>\n",
       "      <th>min</th>\n",
       "      <td>1985.000000</td>\n",
       "      <td>6.000000e+04</td>\n",
       "    </tr>\n",
       "    <tr>\n",
       "      <th>25%</th>\n",
       "      <td>1992.000000</td>\n",
       "      <td>3.000000e+05</td>\n",
       "    </tr>\n",
       "    <tr>\n",
       "      <th>50%</th>\n",
       "      <td>1999.000000</td>\n",
       "      <td>6.000000e+05</td>\n",
       "    </tr>\n",
       "    <tr>\n",
       "      <th>75%</th>\n",
       "      <td>2007.000000</td>\n",
       "      <td>2.400000e+06</td>\n",
       "    </tr>\n",
       "    <tr>\n",
       "      <th>max</th>\n",
       "      <td>2015.000000</td>\n",
       "      <td>1.606180e+07</td>\n",
       "    </tr>\n",
       "  </tbody>\n",
       "</table>\n",
       "</div>"
      ],
      "text/plain": [
       "            yearID        salary\n",
       "count   885.000000  8.850000e+02\n",
       "mean   1999.725424  2.207749e+06\n",
       "std       8.766470  3.434320e+06\n",
       "min    1985.000000  6.000000e+04\n",
       "25%    1992.000000  3.000000e+05\n",
       "50%    1999.000000  6.000000e+05\n",
       "75%    2007.000000  2.400000e+06\n",
       "max    2015.000000  1.606180e+07"
      ]
     },
     "execution_count": 76,
     "metadata": {},
     "output_type": "execute_result"
    }
   ],
   "source": [
    "data3e = data3c[data3c.teamID == 'ATL']\n",
    "\n",
    "data3e.describe()"
   ]
  },
  {
   "cell_type": "code",
   "execution_count": 79,
   "metadata": {},
   "outputs": [
    {
     "name": "stdout",
     "output_type": "stream",
     "text": [
      "(25574, 4)\n",
      "dict_keys(['yearID', 'teamID', 'lgID', 'salary'])\n",
      "460332\n"
     ]
    }
   ],
   "source": [
    "# print(data3c.shape)\n",
    "for index, data in data3c.iterrows():\n",
    "    data3f['yearID'].append(data[0])\n",
    "    data3f['teamID'].append(data[1])\n",
    "    data3f['lgID'].append(data[2])\n",
    "    data3f['salary'].append(data[3])\n",
    "# print(data[0], data[1], data[2], data[3])\n",
    "\n",
    "print(data3f.keys())\n",
    "print(len(data3f['salary']))\n",
    "\n",
    "\n",
    "data3f = data3c.to_dict('list')"
   ]
  },
  {
   "cell_type": "markdown",
   "metadata": {},
   "source": [
    "### 4. Numpy"
   ]
  },
  {
   "cell_type": "markdown",
   "metadata": {},
   "source": [
    "### 5. Scikit-Learn"
   ]
  },
  {
   "cell_type": "markdown",
   "metadata": {},
   "source": [
    "### 6. Git and GitHub"
   ]
  },
  {
   "cell_type": "markdown",
   "metadata": {},
   "source": [
    "### 7. Matplotlib"
   ]
  },
  {
   "cell_type": "markdown",
   "metadata": {},
   "source": [
    "### 8. Seaborn"
   ]
  },
  {
   "cell_type": "code",
   "execution_count": null,
   "metadata": {},
   "outputs": [],
   "source": []
  }
 ],
 "metadata": {
  "kernelspec": {
   "display_name": "Python 3.6.10 64-bit ('py36': conda)",
   "language": "python",
   "name": "python361064bitpy36conda4e672d6ff96844debe44d9bc86fe2211"
  },
  "language_info": {
   "codemirror_mode": {
    "name": "ipython",
    "version": 3
   },
   "file_extension": ".py",
   "mimetype": "text/x-python",
   "name": "python",
   "nbconvert_exporter": "python",
   "pygments_lexer": "ipython3",
   "version": "3.6.10"
  }
 },
 "nbformat": 4,
 "nbformat_minor": 2
}
